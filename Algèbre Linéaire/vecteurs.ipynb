{
 "cells": [
  {
   "cell_type": "markdown",
   "metadata": {},
   "source": [
    "# Vecteurs\n",
    "\n"
   ]
  },
  {
   "cell_type": "code",
   "execution_count": 12,
   "metadata": {},
   "outputs": [],
   "source": [
    "import numpy as np"
   ]
  },
  {
   "cell_type": "markdown",
   "metadata": {},
   "source": [
    "1. Soient les vecteurs $\\vec{u} =\n",
    "\\begin{pmatrix}\n",
    "2 \\\\\n",
    "-1 \\\\\n",
    "3\n",
    "\\end{pmatrix}$\n",
    "et $\\vec{v} =\n",
    "\\begin{pmatrix}\n",
    "-1 \\\\\n",
    "4 \\\\\n",
    "0\n",
    "\\end{pmatrix}$.\n",
    "Calculer $\\vec{u} + \\vec{v}$ et $\\vec{u} - \\vec{v}$.\n"
   ]
  },
  {
   "cell_type": "code",
   "execution_count": 13,
   "metadata": {},
   "outputs": [
    {
     "name": "stdout",
     "output_type": "stream",
     "text": [
      "[ 3 -5  3]\n",
      "[1 3 3]\n"
     ]
    }
   ],
   "source": [
    "u = np.array([2, -1, 3])\n",
    "v = np.array([-1, 4, 0])\n",
    "j = u + v\n",
    "y = u - v\n",
    "print(y)\n",
    "print(j)"
   ]
  },
  {
   "cell_type": "markdown",
   "metadata": {},
   "source": [
    "2. Calculer le produit scalaire des vecteurs $\\vec{a} = \\begin{pmatrix} 1 \\\\ 2 \\\\ 3 \\end{pmatrix}$ et $\\vec{b} = \\begin{pmatrix} 4 \\\\ -5 \\\\ 6 \\end{pmatrix}$. En déduire l’angle $\\theta$ entre $\\vec{a}$ et $\\vec{b}$ en utilisant la formule $\\vec{a} \\cdot \\vec{b} = \\|\\vec{a}\\| \\|\\vec{b}\\| \\cos\\theta$.\n",
    "\n"
   ]
  },
  {
   "cell_type": "code",
   "execution_count": 18,
   "metadata": {},
   "outputs": [
    {
     "name": "stdout",
     "output_type": "stream",
     "text": [
      "68.56244696639715\n"
     ]
    }
   ],
   "source": [
    "a = np.array([1, 2, 3])\n",
    "b = np.array([4, -5, 6])\n",
    "\n",
    "dot_product = np.dot(a, b)\n",
    "\n",
    "norm_a = np.linalg.norm(a)\n",
    "norm_b = np.linalg.norm(b)\n",
    "\n",
    "cos_theta = dot_product / (norm_a * norm_b)\n",
    "theta_rad = np.arccos(cos_theta)\n",
    "theta_deg = np.degrees(theta_rad)\n",
    "print(theta_deg)"
   ]
  },
  {
   "cell_type": "markdown",
   "metadata": {},
   "source": [
    "3. Soient $\\vec{a} = \\begin{pmatrix} 3 \\\\ 0 \\\\ -2 \\end{pmatrix}$ et  $\\vec{b} = \\begin{pmatrix} -1 \\\\ 5 \\\\ 4 \\end{pmatrix}$ Calculer $2\\vec{a} - 3\\vec{b}$\n",
    "\n"
   ]
  },
  {
   "cell_type": "code",
   "execution_count": 15,
   "metadata": {},
   "outputs": [
    {
     "name": "stdout",
     "output_type": "stream",
     "text": [
      "[  9 -15 -16]\n"
     ]
    }
   ],
   "source": [
    "a = np.array([3, 0, -2])\n",
    "b = np.array([-1, 5, 4])\n",
    "c = 2*a - 3*b\n",
    "print(c)"
   ]
  },
  {
   "cell_type": "markdown",
   "metadata": {},
   "source": [
    "4. Déterminer si les vecteurs $\\vec{u}=\\begin{pmatrix} 1\\\\2\\\\3\\end{pmatrix}$ \n",
    "et $\\vec{v}=\\begin{pmatrix} 2\\\\4\\\\6 \\end{pmatrix}$ sont colinéaires?\n",
    "\n",
    "Oui ils sont colinéaires parce que 2 $\\vec{u}$ = $\\vec{v}$"
   ]
  },
  {
   "cell_type": "markdown",
   "metadata": {},
   "source": [
    "5. Soient les vecteurs $\\vec{u} = \\begin{pmatrix} 2 \\\\ -1 \\end{pmatrix}$ et $\\vec{v} = \\begin{pmatrix} -3 \\\\ 5 \\end{pmatrix}$. Calculer le produit scalaire $\\vec{u} \\cdot \\vec{v}$ ainsi que les normes $\\|\\vec{u}\\|$ et $\\|\\vec{v}\\|$.\n",
    "\n"
   ]
  },
  {
   "cell_type": "code",
   "execution_count": 16,
   "metadata": {},
   "outputs": [
    {
     "name": "stdout",
     "output_type": "stream",
     "text": [
      "-11\n",
      "2.23606797749979\n",
      "5.830951894845301\n"
     ]
    }
   ],
   "source": [
    "u = np.array([2, -1])\n",
    "v = np.array([-3, 5])\n",
    "\n",
    "c = u.dot(v)\n",
    "print(c)\n",
    "u_norm = np.linalg.norm(u)\n",
    "v_norm = np.linalg.norm(v)\n",
    "\n",
    "print(u_norm)\n",
    "print(v_norm)\n"
   ]
  },
  {
   "cell_type": "markdown",
   "metadata": {},
   "source": [
    "6. Soient les vecteurs $\\vec{a} = \\begin{pmatrix} 1 \\\\ 0 \\\\ -1 \\end{pmatrix}$ et $\\vec{b} = \\begin{pmatrix} 0 \\\\ 1 \\\\ 1 \\end{pmatrix}$. Calculer le produit vectoriel $\\vec{a} \\times \\vec{b}$.\n",
    "\n"
   ]
  },
  {
   "cell_type": "code",
   "execution_count": 17,
   "metadata": {},
   "outputs": [
    {
     "name": "stdout",
     "output_type": "stream",
     "text": [
      "[ 1 -1  1]\n"
     ]
    }
   ],
   "source": [
    "a = np.array([1,0,-1])\n",
    "b = np.array([0,1,1])\n",
    "\n",
    "c = np.cross(a, b)\n",
    "print(c)"
   ]
  },
  {
   "cell_type": "markdown",
   "metadata": {},
   "source": [
    "7. Soient les vecteurs $\\vec{u} = \\begin{pmatrix} a \\\\ 2 \\\\ -1 \\end{pmatrix}$ et $\\vec{v} = \\begin{pmatrix} 1 \\\\ -1 \\\\ b \\end{pmatrix}$. Déterminer les réels $a$ et $b$ tels que $\\vec{u}$ et $\\vec{v}$ soient orthogonaux.\n"
   ]
  },
  {
   "cell_type": "markdown",
   "metadata": {},
   "source": [
    "Pour que les vecteurs soient orthogonaux, il faut que leur produit scalaire soient nuls. \n",
    "Donc a -2 -b = 0. Ce qui veut dire qu'on a une infinité de solutions.  "
   ]
  }
 ],
 "metadata": {
  "kernelspec": {
   "display_name": "machinelearnia-module-2-mathématiques-mach-AGPwcLZ1-py3.11",
   "language": "python",
   "name": "python3"
  },
  "language_info": {
   "codemirror_mode": {
    "name": "ipython",
    "version": 3
   },
   "file_extension": ".py",
   "mimetype": "text/x-python",
   "name": "python",
   "nbconvert_exporter": "python",
   "pygments_lexer": "ipython3",
   "version": "3.11.5"
  }
 },
 "nbformat": 4,
 "nbformat_minor": 2
}
