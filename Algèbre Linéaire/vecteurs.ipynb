{
 "cells": [
  {
   "cell_type": "markdown",
   "metadata": {},
   "source": [
    "# Vecteurs\n",
    "\n"
   ]
  },
  {
   "cell_type": "markdown",
   "metadata": {},
   "source": [
    "1. Soient les vecteurs $\\vec{u} =\n",
    "\\begin{pmatrix}\n",
    "2 \\\\\n",
    "-1 \\\\\n",
    "3\n",
    "\\end{pmatrix}$\n",
    "et $\\vec{v} =\n",
    "\\begin{pmatrix}\n",
    "-1 \\\\\n",
    "4 \\\\\n",
    "0\n",
    "\\end{pmatrix}$.\n",
    "Calculer $\\vec{u} + \\vec{v}$ et $\\vec{u} - \\vec{v}$.\n"
   ]
  },
  {
   "cell_type": "code",
   "execution_count": 1,
   "metadata": {},
   "outputs": [
    {
     "name": "stdout",
     "output_type": "stream",
     "text": [
      "[ 3 -5  3]\n",
      "[1 3 3]\n"
     ]
    }
   ],
   "source": [
    "import numpy as np\n",
    "u = np.array([2, -1, 3])\n",
    "v = np.array([-1, 4, 0])\n",
    "j = u + v\n",
    "y = u - v\n",
    "print(y)\n",
    "print(j)"
   ]
  },
  {
   "cell_type": "markdown",
   "metadata": {},
   "source": [
    "2. Calculer le produit scalaire des vecteurs :\n",
    "   $$\n",
    "   \\vec{a} =\n",
    "   \\begin{pmatrix}\n",
    "   1 \\\\\n",
    "   2 \\\\\n",
    "   3\n",
    "   \\end{pmatrix},\n",
    "   \\quad\n",
    "   \\vec{b} =\n",
    "   \\begin{pmatrix}\n",
    "   4 \\\\\n",
    "   -5 \\\\\n",
    "   6\n",
    "   \\end{pmatrix}\n",
    "   $$\n",
    "   En déduire l’angle $\\theta$ entre $\\vec{a}$ et $\\vec{b}$ en utilisant la formule :\n",
    "   $$\n",
    "   \\vec{a} \\cdot \\vec{b} = \\|\\vec{a}\\| \\|\\vec{b}\\| \\cos\\theta\n",
    "   $$\n"
   ]
  },
  {
   "cell_type": "code",
   "execution_count": null,
   "metadata": {},
   "outputs": [
    {
     "name": "stdout",
     "output_type": "stream",
     "text": [
      "12\n"
     ]
    }
   ],
   "source": [
    "a = np.array([1, 2, 3])\n",
    "b = np.array([4, -5, 6])\n",
    "c = np.dot(a, b)\n",
    "print(c)\n",
    "\n"
   ]
  },
  {
   "cell_type": "markdown",
   "metadata": {},
   "source": []
  }
 ],
 "metadata": {
  "kernelspec": {
   "display_name": "machinelearnia-module-2-mathématiques-mach-AGPwcLZ1-py3.11",
   "language": "python",
   "name": "python3"
  },
  "language_info": {
   "codemirror_mode": {
    "name": "ipython",
    "version": 3
   },
   "file_extension": ".py",
   "mimetype": "text/x-python",
   "name": "python",
   "nbconvert_exporter": "python",
   "pygments_lexer": "ipython3",
   "version": "3.11.5"
  }
 },
 "nbformat": 4,
 "nbformat_minor": 2
}
