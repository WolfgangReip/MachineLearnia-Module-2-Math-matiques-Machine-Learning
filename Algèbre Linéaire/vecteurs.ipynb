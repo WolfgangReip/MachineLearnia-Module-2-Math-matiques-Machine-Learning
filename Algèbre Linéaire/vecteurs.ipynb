{
 "cells": [
  {
   "cell_type": "markdown",
   "metadata": {},
   "source": [
    "# Vecteurs\n",
    "\n"
   ]
  },
  {
   "cell_type": "markdown",
   "metadata": {},
   "source": [
    "1. Soient les vecteurs $\\vec{u} =\n",
    "\\begin{pmatrix}\n",
    "2 \\\\\n",
    "-1 \\\\\n",
    "3\n",
    "\\end{pmatrix}$\n",
    "et $\\vec{v} =\n",
    "\\begin{pmatrix}\n",
    "-1 \\\\\n",
    "4 \\\\\n",
    "0\n",
    "\\end{pmatrix}$.\n",
    "Calculer $\\vec{u} + \\vec{v}$ et $\\vec{u} - \\vec{v}$.\n"
   ]
  },
  {
   "cell_type": "code",
   "execution_count": null,
   "metadata": {},
   "outputs": [],
   "source": [
    "import numpy as np\n",
    "u = np.array([2, -1, 3])\n",
    "v = np.array([-1, 4, 0])\n",
    "j = u + v\n",
    "y = u - v\n",
    "print(y)\n",
    "print(j)"
   ]
  }
 ],
 "metadata": {
  "kernelspec": {
   "display_name": "machinelearnia-module-2-mathématiques-mach-AGPwcLZ1-py3.11",
   "language": "python",
   "name": "python3"
  },
  "language_info": {
   "name": "python",
   "version": "3.11.5"
  }
 },
 "nbformat": 4,
 "nbformat_minor": 2
}
