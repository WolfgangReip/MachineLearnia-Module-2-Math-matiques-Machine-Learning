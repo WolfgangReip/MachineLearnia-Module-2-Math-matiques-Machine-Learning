{
 "cells": [
  {
   "cell_type": "markdown",
   "metadata": {},
   "source": [
    "# Vecteurs\n",
    "\n"
   ]
  },
  {
   "cell_type": "markdown",
   "metadata": {},
   "source": [
    "1. Soient les vecteurs $\\vec{u} =\n",
    "\\begin{pmatrix}\n",
    "2 \\\\\n",
    "-1 \\\\\n",
    "3\n",
    "\\end{pmatrix}$\n",
    "et $\\vec{v} =\n",
    "\\begin{pmatrix}\n",
    "-1 \\\\\n",
    "4 \\\\\n",
    "0\n",
    "\\end{pmatrix}$.\n",
    "Calculer $\\vec{u} + \\vec{v}$ et $\\vec{u} - \\vec{v}$.\n"
   ]
  },
  {
   "cell_type": "code",
   "execution_count": 1,
   "metadata": {},
   "outputs": [
    {
     "name": "stdout",
     "output_type": "stream",
     "text": [
      "[ 3 -5  3]\n",
      "[1 3 3]\n"
     ]
    }
   ],
   "source": [
    "import numpy as np\n",
    "u = np.array([2, -1, 3])\n",
    "v = np.array([-1, 4, 0])\n",
    "j = u + v\n",
    "y = u - v\n",
    "print(y)\n",
    "print(j)"
   ]
  },
  {
   "cell_type": "markdown",
   "metadata": {},
   "source": [
    "2. Calculer le produit scalaire des vecteurs :\n",
    "   $$\n",
    "   \\vec{a} =\n",
    "   \\begin{pmatrix}\n",
    "   1 \\\\\n",
    "   2 \\\\\n",
    "   3\n",
    "   \\end{pmatrix},\n",
    "   \\quad\n",
    "   \\vec{b} =\n",
    "   \\begin{pmatrix}\n",
    "   4 \\\\\n",
    "   -5 \\\\\n",
    "   6\n",
    "   \\end{pmatrix}\n",
    "   $$\n",
    "   En déduire l’angle $\\theta$ entre $\\vec{a}$ et $\\vec{b}$ en utilisant la formule :\n",
    "   $$\n",
    "   \\vec{a} \\cdot \\vec{b} = \\|\\vec{a}\\| \\|\\vec{b}\\| \\cos\\theta\n",
    "   $$\n"
   ]
  },
  {
   "cell_type": "code",
   "execution_count": null,
   "metadata": {},
   "outputs": [
    {
     "name": "stdout",
     "output_type": "stream",
     "text": [
      "12\n"
     ]
    }
   ],
   "source": [
    "a = np.array([1, 2, 3])\n",
    "b = np.array([4, -5, 6])\n",
    "c = np.dot(a, b)\n",
    "print(c)"
   ]
  },
  {
   "cell_type": "markdown",
   "metadata": {},
   "source": [
    "3. Soient $\\vec{a} = \\begin{pmatrix} 3 \\\\ 0 \\\\ -2 \\end{pmatrix}$ et  $\\vec{b} = \\begin{pmatrix} -1 \\\\ 5 \\\\ 4 \\end{pmatrix}$ Calculer $2\\vec{a} - 3\\vec{b}$\n",
    "\n"
   ]
  },
  {
   "cell_type": "code",
   "execution_count": 3,
   "metadata": {},
   "outputs": [
    {
     "name": "stdout",
     "output_type": "stream",
     "text": [
      "[  9 -15 -16]\n"
     ]
    }
   ],
   "source": [
    "a = np.array([3, 0, -2])\n",
    "b = np.array([-1, 5, 4])\n",
    "c = 2*a - 3*b\n",
    "print(c)"
   ]
  },
  {
   "cell_type": "markdown",
   "metadata": {},
   "source": [
    "4. Déterminer si les vecteurs $\\vec{u}=\\begin{pmatrix} 1\\\\2\\\\3\\end{pmatrix}$ \n",
    "et $\\vec{v}=\\begin{pmatrix} 2\\\\4\\\\6 \\end{pmatrix}$ sont colinéaires?\n",
    "\n",
    "Oui ils sont colinéaires parce que 2 $\\vec{u}$ = $\\vec{v}$"
   ]
  },
  {
   "cell_type": "markdown",
   "metadata": {},
   "source": []
  },
  {
   "cell_type": "markdown",
   "metadata": {},
   "source": []
  }
 ],
 "metadata": {
  "kernelspec": {
   "display_name": "machinelearnia-module-2-mathématiques-mach-AGPwcLZ1-py3.11",
   "language": "python",
   "name": "python3"
  },
  "language_info": {
   "codemirror_mode": {
    "name": "ipython",
    "version": 3
   },
   "file_extension": ".py",
   "mimetype": "text/x-python",
   "name": "python",
   "nbconvert_exporter": "python",
   "pygments_lexer": "ipython3",
   "version": "3.11.5"
  }
 },
 "nbformat": 4,
 "nbformat_minor": 2
}
