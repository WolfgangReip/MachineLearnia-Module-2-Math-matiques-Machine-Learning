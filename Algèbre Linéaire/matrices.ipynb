{
 "cells": [
  {
   "cell_type": "markdown",
   "metadata": {},
   "source": [
    "# Matrices"
   ]
  },
  {
   "cell_type": "code",
   "execution_count": 1,
   "metadata": {},
   "outputs": [],
   "source": [
    "import numpy as np"
   ]
  },
  {
   "cell_type": "markdown",
   "metadata": {},
   "source": [
    "1. Soient les matrices $A = \\begin{pmatrix} 1 & 2 \\\\ 3 & 4 \\end{pmatrix}$ et $B = \\begin{pmatrix} -1 & 0 \\\\ 0 & 1 \\end{pmatrix}$. Calculer $A + B$ et $A - B$.\n"
   ]
  },
  {
   "cell_type": "code",
   "execution_count": 2,
   "metadata": {},
   "outputs": [
    {
     "name": "stdout",
     "output_type": "stream",
     "text": [
      "[[0 2]\n",
      " [3 5]]\n",
      "[[2 2]\n",
      " [3 3]]\n"
     ]
    }
   ],
   "source": [
    "A = np.array([[1, 2], \n",
    "              [3, 4]])\n",
    "B = np.array([[-1, 0],\n",
    "              [0, 1]])\n",
    "\n",
    "print(A + B)\n",
    "print(A - B)"
   ]
  },
  {
   "cell_type": "markdown",
   "metadata": {},
   "source": [
    "2. Calculer le produit des matrices $A = \\begin{pmatrix} 2 & -1 \\\\ 0 & 3 \\end{pmatrix}$ et $B = \\begin{pmatrix} 1 & 4 \\\\ -2 & 5 \\end{pmatrix}$.\n"
   ]
  },
  {
   "cell_type": "code",
   "execution_count": 17,
   "metadata": {},
   "outputs": [
    {
     "name": "stdout",
     "output_type": "stream",
     "text": [
      "[[ 4  3]\n",
      " [-6 15]]\n"
     ]
    }
   ],
   "source": [
    "A = np.array([[2, -1],\n",
    "              [0, 3]])\n",
    "B = np.array([[1, 4],\n",
    "              [-2, 5]])\n",
    "\n",
    "print(A @ B)"
   ]
  },
  {
   "cell_type": "markdown",
   "metadata": {},
   "source": [
    "3. Soit la matrice $C = \\begin{pmatrix} 1 & 2 & 3 \\\\ 4 & 5 & 6 \\end{pmatrix}$. Calculer la transposée de $C$, notée $C^T$.\n"
   ]
  },
  {
   "cell_type": "code",
   "execution_count": 7,
   "metadata": {},
   "outputs": [
    {
     "name": "stdout",
     "output_type": "stream",
     "text": [
      "[[1 4]\n",
      " [2 5]\n",
      " [3 6]]\n"
     ]
    }
   ],
   "source": [
    "C = np.array([[1, 2, 3],\n",
    "              [4, 5, 6]])\n",
    "D = C.T\n",
    "\n",
    "print(D)"
   ]
  },
  {
   "cell_type": "markdown",
   "metadata": {},
   "source": [
    "4. Trouver la trace de la matrice $D = \\begin{pmatrix} 2 & 0 & -1 \\\\ 4 & 3 & 5 \\\\ 0 & 1 & -2 \\end{pmatrix}$.\n"
   ]
  },
  {
   "cell_type": "code",
   "execution_count": 9,
   "metadata": {},
   "outputs": [
    {
     "name": "stdout",
     "output_type": "stream",
     "text": [
      "3\n"
     ]
    }
   ],
   "source": [
    "D = np.array([[2, 0, -1],\n",
    "              [4, 3, 5],\n",
    "              [0, 1, -2]])\n",
    "\n",
    "trace_D = np.trace(D)\n",
    "print(trace_D)\n"
   ]
  },
  {
   "cell_type": "markdown",
   "metadata": {},
   "source": [
    "5. Soit la matrice $E = \\begin{pmatrix} 1 & 2 \\\\ 2 & 4 \\end{pmatrix}$. Déterminer le rang de $E$.\n"
   ]
  },
  {
   "cell_type": "code",
   "execution_count": 10,
   "metadata": {},
   "outputs": [
    {
     "name": "stdout",
     "output_type": "stream",
     "text": [
      "1\n"
     ]
    }
   ],
   "source": [
    "E = np.array([[1, 2],\n",
    "              [2, 4]])\n",
    "\n",
    "rank_E = np.linalg.matrix_rank(E)\n",
    "print(rank_E)"
   ]
  },
  {
   "cell_type": "markdown",
   "metadata": {},
   "source": [
    "6. Vérifier si la multiplication des matrices \n",
    "$A = \\begin{pmatrix} 1 & 0 & -2 \\\\ 3 & 5 & 1 \\end{pmatrix}$\n",
    "et\n",
    "$B = \\begin{pmatrix} 2 & 3 \\\\ -1 & 4 \\\\ 0 & 5 \\end{pmatrix}$\n",
    "est possible. Si oui, calculer le produit A x B\n",
    "\n",
    "\n"
   ]
  },
  {
   "cell_type": "code",
   "execution_count": 11,
   "metadata": {},
   "outputs": [
    {
     "name": "stdout",
     "output_type": "stream",
     "text": [
      "[[ 2 -7]\n",
      " [ 1 34]]\n"
     ]
    }
   ],
   "source": [
    "A = np.array([[1, 0, -2],\n",
    "            [3, 5, 1]])\n",
    "B = np.array([[2, 3],\n",
    "              [-1, 4],\n",
    "              [0, 5]])\n",
    "\n",
    "C = A @ B\n",
    "print(C)"
   ]
  },
  {
   "cell_type": "markdown",
   "metadata": {},
   "source": [
    "7. Soit la matrice $F = \\begin{pmatrix} 1 & 2 \\\\ 3 & 4 \\end{pmatrix}$. Calculer $F^T \\times F$.\n"
   ]
  },
  {
   "cell_type": "code",
   "execution_count": 14,
   "metadata": {},
   "outputs": [
    {
     "name": "stdout",
     "output_type": "stream",
     "text": [
      "[[10 14]\n",
      " [14 20]]\n"
     ]
    }
   ],
   "source": [
    "F = np.array([[1, 2],\n",
    "              [3, 4]])\n",
    "\n",
    "F_T = F.T\n",
    "\n",
    "print(F_T @ F)"
   ]
  },
  {
   "cell_type": "markdown",
   "metadata": {},
   "source": [
    "8. Déterminer si la matrice \n",
    "$G = \\begin{pmatrix} 2 & -1 & 0 \\\\ -1 & 2 & -1 \\\\ 0 & -1 & 2 \\end{pmatrix}$ \n",
    "est symétrique."
   ]
  },
  {
   "cell_type": "code",
   "execution_count": null,
   "metadata": {},
   "outputs": [
    {
     "name": "stdout",
     "output_type": "stream",
     "text": [
      "True\n"
     ]
    }
   ],
   "source": [
    "G = np.array([[2, -1, 0],\n",
    "                [-1, 2, -1],\n",
    "                [0, -1, 2]])\n",
    "\n",
    "is_symmetric = np.array_equal(G, G.T)\n",
    "print(is_symmetric)\n"
   ]
  },
  {
   "cell_type": "markdown",
   "metadata": {},
   "source": [
    "9. Soit la matrice $H = \\begin{pmatrix} 1 & 2 & 3 \\\\ 0 & 0 & 0 \\\\ 4 & 5 & 6 \\end{pmatrix}$. Déterminer le rang de $H$."
   ]
  },
  {
   "cell_type": "code",
   "execution_count": null,
   "metadata": {},
   "outputs": [
    {
     "name": "stdout",
     "output_type": "stream",
     "text": [
      "2\n"
     ]
    }
   ],
   "source": [
    "H = np.array([[1, 2, 3],\n",
    "              [0, 0, 0],\n",
    "              [4, 5, 6]])\n",
    "\n",
    "\n",
    "rank_H = np.linalg.matrix_rank(H)\n",
    "print(rank_H)"
   ]
  }
 ],
 "metadata": {
  "kernelspec": {
   "display_name": "machinelearnia-module-2-mathématiques-mach-AGPwcLZ1-py3.11",
   "language": "python",
   "name": "python3"
  },
  "language_info": {
   "codemirror_mode": {
    "name": "ipython",
    "version": 3
   },
   "file_extension": ".py",
   "mimetype": "text/x-python",
   "name": "python",
   "nbconvert_exporter": "python",
   "pygments_lexer": "ipython3",
   "version": "3.11.5"
  }
 },
 "nbformat": 4,
 "nbformat_minor": 2
}
